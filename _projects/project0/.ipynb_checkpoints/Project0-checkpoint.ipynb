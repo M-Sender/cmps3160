{
 "cells": [
  {
   "cell_type": "markdown",
   "metadata": {},
   "source": [
    "# CMPS3660 - Project0\n",
    "\n",
    "This assignment is intended to ensure that you are able to edit and submit Jupyter Notebooks. \n",
    "\n",
    "The goal is to write a function to count the frequency of different characters in a given string. For example: character_frequency('google') should return a `dict`: {'g': 2, 'o': 2, 'l': 1, 'e': 1} and then you should add some code to display some summary statistics about some data that you bring in!\n",
    "\n",
    "There are many tutorials on the web that can show you how to use the Python data structures. Quite a few examples at: https://docs.python.org/3/tutorial/datastructures.html\n",
    "\n",
    "If you have any trouble with this at all (and we are sure at least some of you will), don't worry and stop by our office hours.\n",
    "\n",
    "You should edit the function definition below, make sure to press 'Shift + Enter' to execute it, and then execute the two function calls to check that the output is correct."
   ]
  },
  {
   "cell_type": "code",
   "execution_count": 2,
   "metadata": {},
   "outputs": [],
   "source": [
    "def character_frequency(s):\n",
    "    ret = dict()\n",
    "    for i in range(len(s)):\n",
    "        if s[i] in ret:\n",
    "            ret[s[i]] +=1\n",
    "        else:\n",
    "            ret[s[i]] = 1\n",
    "    return ret"
   ]
  },
  {
   "cell_type": "code",
   "execution_count": 3,
   "metadata": {},
   "outputs": [
    {
     "data": {
      "text/plain": [
       "{'g': 2, 'o': 2, 'l': 1, 'e': 1}"
      ]
     },
     "execution_count": 3,
     "metadata": {},
     "output_type": "execute_result"
    }
   ],
   "source": [
    "character_frequency('google')"
   ]
  },
  {
   "cell_type": "code",
   "execution_count": 4,
   "metadata": {},
   "outputs": [
    {
     "data": {
      "text/plain": [
       "{'T': 1,\n",
       " 'h': 2,\n",
       " 'i': 6,\n",
       " 's': 7,\n",
       " ' ': 15,\n",
       " 'a': 5,\n",
       " 'g': 1,\n",
       " 'n': 6,\n",
       " 'm': 2,\n",
       " 'e': 10,\n",
       " 't': 10,\n",
       " 'd': 4,\n",
       " 'o': 6,\n",
       " 'u': 4,\n",
       " 'r': 3,\n",
       " 'y': 2,\n",
       " 'b': 3,\n",
       " 'l': 1,\n",
       " 'J': 1,\n",
       " 'p': 1,\n",
       " 'N': 1,\n",
       " 'k': 1,\n",
       " '.': 1}"
      ]
     },
     "execution_count": 4,
     "metadata": {},
     "output_type": "execute_result"
    }
   ],
   "source": [
    "character_frequency('This assignment is intended to ensure that you are able to edit and submit Jupyter Notebooks.')"
   ]
  },
  {
   "cell_type": "markdown",
   "metadata": {},
   "source": [
    "Now in the cell below you should create two string variables and inside them put a different quotes (at least 10 words long) from a favorite book, movie, tv show, or any other media."
   ]
  },
  {
   "cell_type": "code",
   "execution_count": 5,
   "metadata": {},
   "outputs": [],
   "source": [
    "movie1 = \"You were the chosen one! It was said that you would destroy the Sith, not join them! Bring balance to the force, not leave it in darkness! You were my brother Anakin! I loved you!\"\n",
    "movie2 = \"Señores, Les voy a decir quién soy Yo soy Pablo Emilio Escobar Gaviria Mis ojos están en todos lados o sea ustedes no pueden hacer una puta sola mierda en el departamento de Antioquia que yo me entere. Sí, señores. No pueden mover un dedo. Un día, yo voy a ser presidente de la República de Colombia. Y bien, me gano la vida haciendo negocios. Así que pues, fresco. Tranquilo. Uds pueden aceptar mi negocio o aceptar las consecuencias. Plata o pomo Ustedes eligen\""
   ]
  },
  {
   "cell_type": "markdown",
   "metadata": {},
   "source": [
    "For each of the above quotes add code below to print out the character frequency and then give a set of summary statistics for each one, specifically the letter(s) that occur the fewest number of times, the letter(s) that occur the most times, and the average count for all the letters. You should display this data neatly."
   ]
  },
  {
   "cell_type": "code",
   "execution_count": 26,
   "metadata": {},
   "outputs": [
    {
     "name": "stdout",
     "output_type": "stream",
     "text": [
      "Star Wars' Quote: {'Y': 2, 'o': 15, 'u': 5, ' ': 34, 'w': 4, 'e': 18, 'r': 8, 't': 14, 'h': 8, 'c': 3, 's': 6, 'n': 11, '!': 5, 'I': 2, 'a': 8, 'i': 7, 'd': 5, 'y': 4, 'l': 4, 'S': 1, ',': 2, 'j': 1, 'm': 2, 'B': 1, 'g': 1, 'b': 2, 'f': 1, 'v': 2, 'k': 2, 'A': 1}\n",
      "The three most frequent characters were:\n",
      "\tThe character ' ' appeared 34 times.\n",
      "\tThe character 'e' appeared 18 times.\n",
      "\tThe character 'o' appeared 15 times.\n",
      "The three least frequent characters were:\n",
      "\tThe character 'S' only appeared 1 times.\n",
      "\tThe character 'j' only appeared 1 times.\n",
      "\tThe character 'B' only appeared 1 times.\n",
      "Narcos' Quote: {'S': 2, 'e': 54, 'ñ': 2, 'o': 40, 'r': 16, 's': 28, ',': 5, ' ': 83, 'L': 1, 'v': 5, 'y': 6, 'a': 33, 'd': 20, 'c': 13, 'i': 22, 'q': 5, 'u': 14, 'é': 1, 'n': 24, 'Y': 2, 'P': 2, 'b': 5, 'l': 13, 'E': 2, 'm': 9, 'G': 1, 'M': 1, 'j': 1, 't': 13, 'á': 1, 'p': 11, 'h': 2, 'A': 2, '.': 8, 'í': 3, 'N': 1, 'U': 3, 'R': 1, 'ú': 1, 'C': 1, 'g': 4, 'f': 1, 'T': 1}\n",
      "The three most frequent characters were:\n",
      "\tThe character ' ' appeared 83 times.\n",
      "\tThe character 'e' appeared 54 times.\n",
      "\tThe character 'o' appeared 40 times.\n",
      "The three least frequent characters were:\n",
      "\tThe character 'L' only appeared 1 times.\n",
      "\tThe character 'é' only appeared 1 times.\n",
      "\tThe character 'G' only appeared 1 times.\n",
      "_______________________________________________\n",
      "Combining all of the data\n",
      "_ _ _ _ _ _ _ _ _ _ _ _ _ _ _ _ _ _ _ _ _ _ _ _\n",
      "The three most frequent characters were:\n",
      "\tThe character ' ' appeared 117 times.\n",
      "\tThe character 'e' appeared 72 times.\n",
      "\tThe character 'o' appeared 55 times.\n",
      "The three least frequent characters were:\n",
      "\tThe character 'B' only appeared 1 times.\n",
      "\tThe character 'L' only appeared 1 times.\n",
      "\tThe character 'é' only appeared 1 times.\n",
      "There were a total of 642 characters comprising of 48 unique characters.\n",
      "\tCharacter 'Y' had 4 appeareances and comprised 0.62% of the dataset.\n",
      "\tCharacter 'o' had 55 appeareances and comprised 8.56% of the dataset.\n",
      "\tCharacter 'u' had 19 appeareances and comprised 2.95% of the dataset.\n",
      "\tCharacter ' ' had 117 appeareances and comprised 18.2% of the dataset.\n",
      "\tCharacter 'w' had 4 appeareances and comprised 0.62% of the dataset.\n",
      "\tCharacter 'e' had 72 appeareances and comprised 11.2% of the dataset.\n",
      "\tCharacter 'r' had 24 appeareances and comprised 3.73% of the dataset.\n",
      "\tCharacter 't' had 27 appeareances and comprised 4.20% of the dataset.\n",
      "\tCharacter 'h' had 10 appeareances and comprised 1.55% of the dataset.\n",
      "\tCharacter 'c' had 16 appeareances and comprised 2.49% of the dataset.\n",
      "\tCharacter 's' had 34 appeareances and comprised 5.29% of the dataset.\n",
      "\tCharacter 'n' had 35 appeareances and comprised 5.45% of the dataset.\n",
      "\tCharacter '!' had 5 appeareances and comprised 0.77% of the dataset.\n",
      "\tCharacter 'I' had 2 appeareances and comprised 0.31% of the dataset.\n",
      "\tCharacter 'a' had 41 appeareances and comprised 6.38% of the dataset.\n",
      "\tCharacter 'i' had 29 appeareances and comprised 4.51% of the dataset.\n",
      "\tCharacter 'd' had 25 appeareances and comprised 3.89% of the dataset.\n",
      "\tCharacter 'y' had 10 appeareances and comprised 1.55% of the dataset.\n",
      "\tCharacter 'l' had 17 appeareances and comprised 2.64% of the dataset.\n",
      "\tCharacter 'S' had 3 appeareances and comprised 0.46% of the dataset.\n",
      "\tCharacter ',' had 7 appeareances and comprised 1.09% of the dataset.\n",
      "\tCharacter 'j' had 2 appeareances and comprised 0.31% of the dataset.\n",
      "\tCharacter 'm' had 11 appeareances and comprised 1.71% of the dataset.\n",
      "\tCharacter 'B' had 1 appeareances and comprised 0.15% of the dataset.\n",
      "\tCharacter 'g' had 5 appeareances and comprised 0.77% of the dataset.\n",
      "\tCharacter 'b' had 7 appeareances and comprised 1.09% of the dataset.\n",
      "\tCharacter 'f' had 2 appeareances and comprised 0.31% of the dataset.\n",
      "\tCharacter 'v' had 7 appeareances and comprised 1.09% of the dataset.\n",
      "\tCharacter 'k' had 2 appeareances and comprised 0.31% of the dataset.\n",
      "\tCharacter 'A' had 3 appeareances and comprised 0.46% of the dataset.\n",
      "\tCharacter 'ñ' had 2 appeareances and comprised 0.31% of the dataset.\n",
      "\tCharacter 'L' had 1 appeareances and comprised 0.15% of the dataset.\n",
      "\tCharacter 'q' had 5 appeareances and comprised 0.77% of the dataset.\n",
      "\tCharacter 'é' had 1 appeareances and comprised 0.15% of the dataset.\n",
      "\tCharacter 'P' had 2 appeareances and comprised 0.31% of the dataset.\n",
      "\tCharacter 'E' had 2 appeareances and comprised 0.31% of the dataset.\n",
      "\tCharacter 'G' had 1 appeareances and comprised 0.15% of the dataset.\n",
      "\tCharacter 'M' had 1 appeareances and comprised 0.15% of the dataset.\n",
      "\tCharacter 'á' had 1 appeareances and comprised 0.15% of the dataset.\n",
      "\tCharacter 'p' had 11 appeareances and comprised 1.71% of the dataset.\n",
      "\tCharacter '.' had 8 appeareances and comprised 1.24% of the dataset.\n",
      "\tCharacter 'í' had 3 appeareances and comprised 0.46% of the dataset.\n",
      "\tCharacter 'N' had 1 appeareances and comprised 0.15% of the dataset.\n",
      "\tCharacter 'U' had 3 appeareances and comprised 0.46% of the dataset.\n",
      "\tCharacter 'R' had 1 appeareances and comprised 0.15% of the dataset.\n",
      "\tCharacter 'ú' had 1 appeareances and comprised 0.15% of the dataset.\n",
      "\tCharacter 'C' had 1 appeareances and comprised 0.15% of the dataset.\n",
      "\tCharacter 'T' had 1 appeareances and comprised 0.15% of the dataset.\n"
     ]
    }
   ],
   "source": [
    "def getPercents(data):\n",
    "    total = sum(data.values())\n",
    "    print(\"There were a total of\",total,\"characters comprising of\",len(data),\"unique characters.\")\n",
    "    for key in data:\n",
    "        percent = str(100*data[key]/total)[:4]\n",
    "        print(\"\\tCharacter '\",key,\"' had \",data[key],\" appeareances and comprised \",percent,\"% of the dataset.\",sep=\"\")\n",
    "def analysis(data):\n",
    "    print(\"The three most frequent characters were:\")\n",
    "    for i in range(3):\n",
    "        key = max(data,key = data.get)\n",
    "        freq = data[key]\n",
    "        del data[key]\n",
    "        print(\"\\tThe character '\",key,\"' appeared \",freq,\" times.\",sep=\"\")\n",
    "    print(\"The three least frequent characters were:\")\n",
    "    for i in range(3):\n",
    "        key = min(data,key = data.get)\n",
    "        freq = data[key]\n",
    "        del data[key]\n",
    "        print(\"\\tThe character '\",key,\"' only appeared \",freq,\" times.\",sep=\"\")\n",
    "def overall_analysis(dataArr):\n",
    "    #merge all data to one dict\n",
    "    data = dict()\n",
    "    for dictionary in dataArr:\n",
    "        for key in dictionary:\n",
    "            if key in data:\n",
    "                data[key] += dictionary[key]\n",
    "            else:\n",
    "                data[key] = dictionary[key]\n",
    "    analysis(data.copy())\n",
    "    getPercents(data.copy())\n",
    "data1 = character_frequency(movie1)\n",
    "print(\"Star Wars' Quote:\",data1)\n",
    "analysis(data1.copy())\n",
    "print(\"Narcos' Quote:\", data2)\n",
    "data2 = character_frequency(movie2)\n",
    "analysis(data2.copy())\n",
    "print(\"_______________________________________________\\nCombining all of the data\\n_ _ _ _ _ _ _ _ _ _ _ _ _ _ _ _ _ _ _ _ _ _ _ _\")\n",
    "overall_analysis([data1.copy(),data2.copy()])\n",
    "\n",
    "\n"
   ]
  },
  {
   "cell_type": "code",
   "execution_count": null,
   "metadata": {},
   "outputs": [],
   "source": []
  }
 ],
 "metadata": {
  "kernelspec": {
   "display_name": "Python 3 (ipykernel)",
   "language": "python",
   "name": "python3"
  },
  "language_info": {
   "codemirror_mode": {
    "name": "ipython",
    "version": 3
   },
   "file_extension": ".py",
   "mimetype": "text/x-python",
   "name": "python",
   "nbconvert_exporter": "python",
   "pygments_lexer": "ipython3",
   "version": "3.9.6"
  }
 },
 "nbformat": 4,
 "nbformat_minor": 2
}
